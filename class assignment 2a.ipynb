{
 "cells": [
  {
   "cell_type": "code",
   "execution_count": 20,
   "id": "f7e60447-f4ba-491c-aefc-fa812d71f759",
   "metadata": {},
   "outputs": [],
   "source": [
    "from multiforma2 import multi"
   ]
  },
  {
   "cell_type": "code",
   "execution_count": 21,
   "id": "0da14ae2-deb0-4e67-a43a-5b6d04478c86",
   "metadata": {},
   "outputs": [
    {
     "name": "stdout",
     "output_type": "stream",
     "text": [
      "Sub-fields in AI are:\n",
      "machine learning\n",
      "neural networs\n",
      "vision\n",
      "robotics\n",
      "speech processing\n",
      "natural language processing\n"
     ]
    }
   ],
   "source": [
    "multi.SubfieldInAI()"
   ]
  },
  {
   "cell_type": "code",
   "execution_count": 22,
   "id": "e9fc7c3d-8954-4201-a2c6-75b2bc8c6361",
   "metadata": {},
   "outputs": [
    {
     "name": "stdin",
     "output_type": "stream",
     "text": [
      "enter the number: 52452\n"
     ]
    },
    {
     "name": "stdout",
     "output_type": "stream",
     "text": [
      "52452 is even number\n"
     ]
    }
   ],
   "source": [
    "multi.oddeven()"
   ]
  },
  {
   "cell_type": "code",
   "execution_count": 23,
   "id": "4fac45d8-7dc9-46cc-9e1d-03d9147efa9c",
   "metadata": {},
   "outputs": [
    {
     "name": "stdin",
     "output_type": "stream",
     "text": [
      "Enter the gender: male\n",
      "Enter the age: 20\n"
     ]
    },
    {
     "name": "stdout",
     "output_type": "stream",
     "text": [
      "Not eligible\n"
     ]
    }
   ],
   "source": [
    "multi.MarriageElegibility()"
   ]
  },
  {
   "cell_type": "code",
   "execution_count": 24,
   "id": "13919df1-d4ea-42e4-952b-4edab0989410",
   "metadata": {},
   "outputs": [
    {
     "name": "stdin",
     "output_type": "stream",
     "text": [
      "subject1= 98\n",
      "subject2= 87\n",
      "subject3= 95\n",
      "subject4= 95\n",
      "subject5= 93\n"
     ]
    },
    {
     "name": "stdout",
     "output_type": "stream",
     "text": [
      "Total= 468\n",
      "Percentage : 93.6\n"
     ]
    }
   ],
   "source": [
    "multi.percentage()"
   ]
  },
  {
   "cell_type": "code",
   "execution_count": 25,
   "id": "596e9f0f-65dd-4b3c-824d-0c36e108a16a",
   "metadata": {},
   "outputs": [
    {
     "name": "stdin",
     "output_type": "stream",
     "text": [
      "Height: 32\n",
      "Breadth: 34\n"
     ]
    },
    {
     "name": "stdout",
     "output_type": "stream",
     "text": [
      "Area Formula: (Height*Breadth)/2\n",
      "Area of triangle: 544.0\n"
     ]
    },
    {
     "name": "stdin",
     "output_type": "stream",
     "text": [
      "Height1: 2\n",
      "Height2: 4\n",
      "Breadth1: 4\n"
     ]
    },
    {
     "name": "stdout",
     "output_type": "stream",
     "text": [
      "perimeter Formula: height1+Height2+Breadth\n",
      "Perimeter of triangle: 10\n"
     ]
    }
   ],
   "source": [
    "multi.triangle()"
   ]
  },
  {
   "cell_type": "code",
   "execution_count": null,
   "id": "fe73aa06-a1fe-4a0c-86d9-b502436bbd81",
   "metadata": {},
   "outputs": [],
   "source": []
  }
 ],
 "metadata": {
  "kernelspec": {
   "display_name": "Python 3 (ipykernel)",
   "language": "python",
   "name": "python3"
  },
  "language_info": {
   "codemirror_mode": {
    "name": "ipython",
    "version": 3
   },
   "file_extension": ".py",
   "mimetype": "text/x-python",
   "name": "python",
   "nbconvert_exporter": "python",
   "pygments_lexer": "ipython3",
   "version": "3.11.7"
  }
 },
 "nbformat": 4,
 "nbformat_minor": 5
}
