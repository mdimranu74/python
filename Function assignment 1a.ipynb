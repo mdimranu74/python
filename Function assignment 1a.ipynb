{
 "cells": [
  {
   "cell_type": "code",
   "execution_count": 2,
   "id": "22a2f600-6591-4665-b237-f574e79160a7",
   "metadata": {},
   "outputs": [],
   "source": [
    "def SubfieldInAI():\n",
    "    AI=[\"machine learning\",\"neural networs\",\"vision\",\"robotics\",\"speech processing\",\"natural language processing\"]\n",
    "    print(\"Sub-fields in AI are:\")\n",
    "    for Subfields in AI:\n",
    "        print(Subfields)"
   ]
  },
  {
   "cell_type": "code",
   "execution_count": 3,
   "id": "385b945d-87b9-4c09-b2b8-402b27eb81f3",
   "metadata": {},
   "outputs": [],
   "source": [
    "def oddeven():\n",
    "    number=int(input(\"enter the number:\"))    \n",
    "    if number%2 == 1 :\n",
    "        print(\"odd\")\n",
    "        message= \"odd\"\n",
    "    else:\n",
    "        print(\"even\")\n",
    "        message= \"even\"\n",
    "    return message"
   ]
  },
  {
   "cell_type": "code",
   "execution_count": 11,
   "id": "49ddd3d4-9157-4522-ba0d-754dd6cacd6b",
   "metadata": {},
   "outputs": [],
   "source": [
    "def MarriageElegibility():\n",
    "    gender=input(\"Enter the gender:\")\n",
    "    age=int(input(\"Enter the age:\"))\n",
    "    if ((gender==\"Male\")&(age>=21)):\n",
    "        print(\"eligible\")\n",
    "    elif ((gender==\"Female\")&(age>=18)):\n",
    "        print(\"eligible\")\n",
    "    else:\n",
    "        print(\"Not eligible\")"
   ]
  },
  {
   "cell_type": "code",
   "execution_count": 16,
   "id": "cc2bb0c5-9cad-4da5-a51d-e1af5075e9d5",
   "metadata": {},
   "outputs": [],
   "source": [
    "def percentage():\n",
    "    sub1=int(input(\"subject1=\"))\n",
    "    sub2=int(input(\"subject2=\"))\n",
    "    sub3=int(input(\"subject3=\"))\n",
    "    sub4=int(input(\"subject4=\"))\n",
    "    sub5=int(input(\"subject5=\"))\n",
    "    Total=sub1+sub2+sub3+sub4+sub5\n",
    "    print(\"Total=\", Total)\n",
    "    per=(Total/5)\n",
    "    print(\"Percentage :\",per)"
   ]
  },
  {
   "cell_type": "code",
   "execution_count": 6,
   "id": "44bac0b6-8a4d-4816-9211-bed4291c6cc9",
   "metadata": {},
   "outputs": [],
   "source": [
    "def triangle():\n",
    "    H=int(input(\"Height:\"))\n",
    "    B=int(input(\"Breadth:\"))\n",
    "    print(\"Area Formula: (Height*Breadth)/2\")\n",
    "    A=(H*B)/2\n",
    "    print(\"Area of triangle:\", A)\n",
    "    H1=int(input(\"Height1:\"))\n",
    "    H2=int(input(\"Height2:\"))\n",
    "    B1=int(input(\"Breadth1:\"))\n",
    "    print(\"perimeter Formula: height1+Height2+Breadth\")\n",
    "    P=H1+H2+B1\n",
    "    print(\"Perimeter of triangle:\", P)"
   ]
  },
  {
   "cell_type": "code",
   "execution_count": 7,
   "id": "8cb28a3a-b1f6-41ea-b8f3-b04187a9da64",
   "metadata": {},
   "outputs": [
    {
     "name": "stdout",
     "output_type": "stream",
     "text": [
      "Sub-fields in AI are:\n",
      "machine learning\n",
      "neural networs\n",
      "vision\n",
      "robotics\n",
      "speech processing\n",
      "natural language processing\n"
     ]
    }
   ],
   "source": [
    "SubfieldInAI()"
   ]
  },
  {
   "cell_type": "code",
   "execution_count": 8,
   "id": "739c679c-2526-4b1e-b6b0-b33fe5e52718",
   "metadata": {},
   "outputs": [
    {
     "name": "stdin",
     "output_type": "stream",
     "text": [
      "enter the number: 52452\n"
     ]
    },
    {
     "name": "stdout",
     "output_type": "stream",
     "text": [
      "even\n"
     ]
    },
    {
     "data": {
      "text/plain": [
       "'even'"
      ]
     },
     "execution_count": 8,
     "metadata": {},
     "output_type": "execute_result"
    }
   ],
   "source": [
    "oddeven()"
   ]
  },
  {
   "cell_type": "code",
   "execution_count": 12,
   "id": "70f2854e-4896-42a6-b90c-eee2fbcd55c1",
   "metadata": {},
   "outputs": [
    {
     "name": "stdin",
     "output_type": "stream",
     "text": [
      "Enter the gender: male\n",
      "Enter the age: 20\n"
     ]
    },
    {
     "name": "stdout",
     "output_type": "stream",
     "text": [
      "Not eligible\n"
     ]
    }
   ],
   "source": [
    "MarriageElegibility()"
   ]
  },
  {
   "cell_type": "code",
   "execution_count": 17,
   "id": "cba093e2-93ec-492f-bb5b-e64da84e7aeb",
   "metadata": {},
   "outputs": [
    {
     "name": "stdin",
     "output_type": "stream",
     "text": [
      "subject1= 98\n",
      "subject2= 87\n",
      "subject3= 95\n",
      "subject4= 95\n",
      "subject5= 93\n"
     ]
    },
    {
     "name": "stdout",
     "output_type": "stream",
     "text": [
      "Total= 468\n",
      "Percentage : 93.6\n"
     ]
    }
   ],
   "source": [
    "percentage()"
   ]
  },
  {
   "cell_type": "code",
   "execution_count": 18,
   "id": "a1aaac2d-87b8-4bd8-b16d-c6dbad80884a",
   "metadata": {},
   "outputs": [
    {
     "name": "stdin",
     "output_type": "stream",
     "text": [
      "Height: 32\n",
      "Breadth: 34\n"
     ]
    },
    {
     "name": "stdout",
     "output_type": "stream",
     "text": [
      "Area Formula: (Height*Breadth)/2\n",
      "Area of triangle: 544.0\n"
     ]
    },
    {
     "name": "stdin",
     "output_type": "stream",
     "text": [
      "Height1: 2\n",
      "Height2: 4\n",
      "Breadth1: 4\n"
     ]
    },
    {
     "name": "stdout",
     "output_type": "stream",
     "text": [
      "perimeter Formula: height1+Height2+Breadth\n",
      "Perimeter of triangle: 10\n"
     ]
    }
   ],
   "source": [
    "triangle()"
   ]
  },
  {
   "cell_type": "code",
   "execution_count": 22,
   "id": "8a8b4433-777c-4899-966f-dc85661c3a52",
   "metadata": {},
   "outputs": [],
   "source": [
    "class multi():\n",
    "    def SubfieldInAI():\n",
    "        AI=[\"machine learning\",\"neural networs\",\"vision\",\"robotics\",\"speech processing\",\"natural language processing\"]\n",
    "        print(\"Sub-fields in AI are:\")\n",
    "        for Subfields in AI:\n",
    "            print(Subfields)\n",
    "    def oddeven():\n",
    "        number=int(input(\"enter the number:\"))    \n",
    "        if number%2 == 1 :\n",
    "            print(\"odd\")\n",
    "        else:\n",
    "            print(\"even\")\n",
    "    def MarriageElegibility():\n",
    "        gender=input(\"Enter the gender:\")\n",
    "        age=int(input(\"Enter the age:\"))\n",
    "        if ((gender==\"Male\")&(age>=21)):\n",
    "            print(\"eligible\")\n",
    "        elif ((gender==\"Female\")&(age>=18)):\n",
    "            print(\"eligible\")\n",
    "        else:\n",
    "            print(\"Not eligible\")\n",
    "    def percentage():\n",
    "        sub1=int(input(\"subject1=\"))\n",
    "        sub2=int(input(\"subject2=\"))\n",
    "        sub3=int(input(\"subject3=\"))\n",
    "        sub4=int(input(\"subject4=\"))\n",
    "        sub5=int(input(\"subject5=\"))\n",
    "        Total=sub1+sub2+sub3+sub4+sub5\n",
    "        print(\"Total=\", Total)\n",
    "        per=(Total/5)\n",
    "        print(\"Percentage :\",per)\n",
    "    def triangle():\n",
    "        H=int(input(\"Height:\"))\n",
    "        B=int(input(\"Breadth:\"))\n",
    "        print(\"Area Formula: (Height*Breadth)/2\")\n",
    "        A=(H*B)/2\n",
    "        print(\"Area of triangle:\", A)\n",
    "        H1=int(input(\"Height1:\"))\n",
    "        H2=int(input(\"Height2:\"))\n",
    "        B1=int(input(\"Breadth1:\"))\n",
    "        print(\"perimeter Formula: height1+Height2+Breadth\")\n",
    "        P=H1+H2+B1\n",
    "        print(\"Perimeter of triangle:\", P)"
   ]
  },
  {
   "cell_type": "code",
   "execution_count": null,
   "id": "80172f3b-f2e0-4b9f-98e1-5317e1d9878b",
   "metadata": {},
   "outputs": [],
   "source": []
  }
 ],
 "metadata": {
  "kernelspec": {
   "display_name": "Python 3 (ipykernel)",
   "language": "python",
   "name": "python3"
  },
  "language_info": {
   "codemirror_mode": {
    "name": "ipython",
    "version": 3
   },
   "file_extension": ".py",
   "mimetype": "text/x-python",
   "name": "python",
   "nbconvert_exporter": "python",
   "pygments_lexer": "ipython3",
   "version": "3.11.7"
  }
 },
 "nbformat": 4,
 "nbformat_minor": 5
}
