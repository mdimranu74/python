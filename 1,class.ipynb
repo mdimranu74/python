{
 "cells": [
  {
   "cell_type": "code",
   "execution_count": 13,
   "id": "8fa5907b-6ab4-46f2-91c6-e5ea8cc6f95c",
   "metadata": {},
   "outputs": [],
   "source": [
    "class subfieldsInAI():\n",
    "    def subfields():\n",
    "        AI=[\"machine learning\",\"neural networs\",\"vision\",\"robotics\",\"speech processing\",\"natural language processing\"]\n",
    "        Subfield=input(\"Sub-field in AI are:\")\n",
    "        for subfields in AI:\n",
    "            print(subfields)\n"
   ]
  },
  {
   "cell_type": "code",
   "execution_count": 17,
   "id": "bfce298b-eaa8-4963-a6ef-cf3a70208b6e",
   "metadata": {},
   "outputs": [],
   "source": [
    "class oddeven():\n",
    "    def oddeven():\n",
    "        number=int(input(\"enter the number:\"))    \n",
    "        if number%2 == 1 :\n",
    "            print(number,\"is odd number\")\n",
    "            message= \"odd number\"\n",
    "        else:\n",
    "            print(number,\"is even number\")\n",
    "            message= \"even number\""
   ]
  },
  {
   "cell_type": "code",
   "execution_count": 10,
   "id": "9b1a05b3-1691-4503-9825-549de88f63da",
   "metadata": {},
   "outputs": [],
   "source": [
    "class eligibilityformarriage():\n",
    "    def Elegibility():\n",
    "        gender=input(\"your gender:\")\n",
    "        age=int(input(\"your age:\"))\n",
    "        if (age>21):\n",
    "            print(\"eligible\")\n",
    "        else:\n",
    "            print(\"Not eligible\")"
   ]
  },
  {
   "cell_type": "code",
   "execution_count": 11,
   "id": "7a6cc0c8-3a90-4b75-a35b-5bc2a98be72c",
   "metadata": {},
   "outputs": [],
   "source": [
    "class findpercentage():\n",
    "    def percentage():\n",
    "        sub1=int(input(\"subject1=\"))\n",
    "        sub2=int(input(\"subject2=\"))\n",
    "        sub3=int(input(\"subject3=\"))\n",
    "        sub4=int(input(\"subject4=\"))\n",
    "        sub5=int(input(\"subject5=\"))\n",
    "        Total=sub1+sub2+sub3+sub4+sub5\n",
    "        print(\"Total=\", Total)\n",
    "        P=(Total/500)*100\n",
    "        print(\"percentage:\", P)"
   ]
  },
  {
   "cell_type": "code",
   "execution_count": 9,
   "id": "d4ce2dd0-1a3f-4e59-bbdc-418d5cdc2e48",
   "metadata": {},
   "outputs": [],
   "source": [
    "class triangle():\n",
    "    def triangle():\n",
    "        H=int(input(\"Height:\"))\n",
    "        B=int(input(\"Breadth:\"))\n",
    "        print(\"Area Formula: (Height*Breadth)/2\")\n",
    "        A=(H*B)/2\n",
    "        print(\"Area of triangle:\", A)\n",
    "        H1=int(input(\"Height1:\"))\n",
    "        H2=int(input(\"Height2:\"))\n",
    "        B1=int(input(\"Breadth1:\"))\n",
    "        print(\"perimeter Formula: height1+Height2+Breadth\")\n",
    "        P=H1+H2+B1\n",
    "        print(\"Perimeter of triangle:\", P)"
   ]
  },
  {
   "cell_type": "code",
   "execution_count": 15,
   "id": "6b8ce865-275d-4f9f-804d-0a6f16c5e7cf",
   "metadata": {},
   "outputs": [
    {
     "name": "stdin",
     "output_type": "stream",
     "text": [
      "Sub-field in AI are: \n"
     ]
    },
    {
     "name": "stdout",
     "output_type": "stream",
     "text": [
      "machine learning\n",
      "neural networs\n",
      "vision\n",
      "robotics\n",
      "speech processing\n",
      "natural language processing\n"
     ]
    }
   ],
   "source": [
    "subfieldsInAI.subfields()"
   ]
  },
  {
   "cell_type": "code",
   "execution_count": 18,
   "id": "6e926812-0151-43d9-945e-45730e706e4d",
   "metadata": {},
   "outputs": [
    {
     "name": "stdin",
     "output_type": "stream",
     "text": [
      "enter the number: 52452\n"
     ]
    },
    {
     "name": "stdout",
     "output_type": "stream",
     "text": [
      "52452 is even number\n"
     ]
    }
   ],
   "source": [
    "oddeven.oddeven()"
   ]
  },
  {
   "cell_type": "code",
   "execution_count": 19,
   "id": "ec508baa-1f57-4cb5-9ad9-e454da595a17",
   "metadata": {},
   "outputs": [
    {
     "name": "stdin",
     "output_type": "stream",
     "text": [
      "your gender: male\n",
      "your age: 20\n"
     ]
    },
    {
     "name": "stdout",
     "output_type": "stream",
     "text": [
      "Not eligible\n"
     ]
    }
   ],
   "source": [
    "eligibilityformarriage.Elegibility()"
   ]
  },
  {
   "cell_type": "code",
   "execution_count": 20,
   "id": "8f1c99d2-bc6b-400d-ac61-ead39dad1e6f",
   "metadata": {},
   "outputs": [
    {
     "name": "stdin",
     "output_type": "stream",
     "text": [
      "subject1= 98\n",
      "subject2= 87\n",
      "subject3= 95\n",
      "subject4= 95\n",
      "subject5= 93\n"
     ]
    },
    {
     "name": "stdout",
     "output_type": "stream",
     "text": [
      "Total= 468\n",
      "percentage: 93.60000000000001\n"
     ]
    }
   ],
   "source": [
    "findpercentage.percentage()"
   ]
  },
  {
   "cell_type": "code",
   "execution_count": 21,
   "id": "3ac40772-7f95-4b47-aa30-c05a67880080",
   "metadata": {},
   "outputs": [
    {
     "name": "stdin",
     "output_type": "stream",
     "text": [
      "Height: 32\n",
      "Breadth: 34\n"
     ]
    },
    {
     "name": "stdout",
     "output_type": "stream",
     "text": [
      "Area Formula: (Height*Breadth)/2\n",
      "Area of triangle: 544.0\n"
     ]
    },
    {
     "name": "stdin",
     "output_type": "stream",
     "text": [
      "Height1: 2\n",
      "Height2: 4\n",
      "Breadth1: 4\n"
     ]
    },
    {
     "name": "stdout",
     "output_type": "stream",
     "text": [
      "perimeter Formula: height1+Height2+Breadth\n",
      "Perimeter of triangle: 10\n"
     ]
    }
   ],
   "source": [
    "triangle.triangle()"
   ]
  },
  {
   "cell_type": "code",
   "execution_count": null,
   "id": "e71dd5f3-82e3-4ade-91c9-9e73094d5693",
   "metadata": {},
   "outputs": [],
   "source": []
  }
 ],
 "metadata": {
  "kernelspec": {
   "display_name": "Python 3 (ipykernel)",
   "language": "python",
   "name": "python3"
  },
  "language_info": {
   "codemirror_mode": {
    "name": "ipython",
    "version": 3
   },
   "file_extension": ".py",
   "mimetype": "text/x-python",
   "name": "python",
   "nbconvert_exporter": "python",
   "pygments_lexer": "ipython3",
   "version": "3.11.7"
  }
 },
 "nbformat": 4,
 "nbformat_minor": 5
}
