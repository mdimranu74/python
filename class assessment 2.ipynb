{
 "cells": [
  {
   "cell_type": "code",
   "execution_count": 1,
   "id": "cbbbd6ff-6ef0-44b5-972f-38559be1d72a",
   "metadata": {},
   "outputs": [],
   "source": [
    "from multifunctional import multiform"
   ]
  },
  {
   "cell_type": "code",
   "execution_count": 2,
   "id": "c86fed2d-d98c-459c-93e3-4527cc9d98a4",
   "metadata": {},
   "outputs": [
    {
     "name": "stdin",
     "output_type": "stream",
     "text": [
      "enter the number: 25\n"
     ]
    },
    {
     "name": "stdout",
     "output_type": "stream",
     "text": [
      "25 is odd number\n"
     ]
    }
   ],
   "source": [
    "multiform.oddeven()"
   ]
  },
  {
   "cell_type": "code",
   "execution_count": 3,
   "id": "7f367d08-1171-4c72-a87c-33fb1eb70fb8",
   "metadata": {},
   "outputs": [
    {
     "name": "stdin",
     "output_type": "stream",
     "text": [
      "Sub-field in AI are: \n"
     ]
    },
    {
     "name": "stdout",
     "output_type": "stream",
     "text": [
      "machine learning\n",
      "neural networs\n",
      "vision\n",
      "robotics\n",
      "speech processing\n",
      "natural language processing\n"
     ]
    }
   ],
   "source": [
    "multiform.subfields()"
   ]
  },
  {
   "cell_type": "code",
   "execution_count": 4,
   "id": "c7291235-09e6-462c-bd6e-23e625474f29",
   "metadata": {},
   "outputs": [
    {
     "name": "stdin",
     "output_type": "stream",
     "text": [
      "your gender: male\n",
      "your age: 20\n"
     ]
    },
    {
     "name": "stdout",
     "output_type": "stream",
     "text": [
      "Not eligible\n"
     ]
    }
   ],
   "source": [
    "multiform.eligibilityformarriage()"
   ]
  },
  {
   "cell_type": "code",
   "execution_count": 5,
   "id": "7cd358c4-5ed8-4dee-ab4a-7c52327c8689",
   "metadata": {},
   "outputs": [
    {
     "name": "stdin",
     "output_type": "stream",
     "text": [
      "subject1= 1\n",
      "subject2= 2\n",
      "subject3= 3\n",
      "subject4= 4\n",
      "subject5= 5\n"
     ]
    },
    {
     "name": "stdout",
     "output_type": "stream",
     "text": [
      "Total= 15\n",
      "percentage: 3.0\n"
     ]
    }
   ],
   "source": [
    "multiform.percentage()"
   ]
  },
  {
   "cell_type": "code",
   "execution_count": 6,
   "id": "6fb5b485-ebc4-4c3b-b5dd-7cc17dcd3203",
   "metadata": {},
   "outputs": [
    {
     "name": "stdin",
     "output_type": "stream",
     "text": [
      "Height: 1\n",
      "Breadth: 2\n"
     ]
    },
    {
     "name": "stdout",
     "output_type": "stream",
     "text": [
      "Area Formula: (Height*Breadth)/2\n",
      "Area of triangle: 1.0\n"
     ]
    },
    {
     "name": "stdin",
     "output_type": "stream",
     "text": [
      "Height1: 3\n",
      "Height2: 4\n",
      "Breadth1: 5\n"
     ]
    },
    {
     "name": "stdout",
     "output_type": "stream",
     "text": [
      "perimeter Formula: height1+Height2+Breadth\n",
      "Perimeter of triangle: 12\n"
     ]
    }
   ],
   "source": [
    "multiform.triangle()"
   ]
  },
  {
   "cell_type": "code",
   "execution_count": null,
   "id": "53225b73-1a75-47e2-ab80-8e86429075bc",
   "metadata": {},
   "outputs": [],
   "source": []
  }
 ],
 "metadata": {
  "kernelspec": {
   "display_name": "Python 3 (ipykernel)",
   "language": "python",
   "name": "python3"
  },
  "language_info": {
   "codemirror_mode": {
    "name": "ipython",
    "version": 3
   },
   "file_extension": ".py",
   "mimetype": "text/x-python",
   "name": "python",
   "nbconvert_exporter": "python",
   "pygments_lexer": "ipython3",
   "version": "3.11.7"
  }
 },
 "nbformat": 4,
 "nbformat_minor": 5
}
