{
 "cells": [
  {
   "cell_type": "code",
   "execution_count": 1,
   "id": "3e8aaf23-f45d-4c3b-bc10-93483bb77c07",
   "metadata": {},
   "outputs": [
    {
     "name": "stdout",
     "output_type": "stream",
     "text": [
      "HOPE AI\n"
     ]
    }
   ],
   "source": [
    "print(\"HOPE AI\")"
   ]
  },
  {
   "cell_type": "code",
   "execution_count": 2,
   "id": "bba7e526-e1cc-4715-93a7-e69b35417340",
   "metadata": {},
   "outputs": [
    {
     "name": "stdin",
     "output_type": "stream",
     "text": [
      "Enter Your Institute name? : HOPE AI\n"
     ]
    }
   ],
   "source": [
    "inst_name1=input(\"Enter Your Institute name? :\")"
   ]
  },
  {
   "cell_type": "code",
   "execution_count": 4,
   "id": "20b70382-6c73-4065-9545-93f3344f5a2b",
   "metadata": {},
   "outputs": [
    {
     "name": "stdin",
     "output_type": "stream",
     "text": [
      "Enter Your name? : Raj\n",
      "Enter Your age: 15\n",
      "Enter Your School name? : Guru school\n",
      "Enter Your Degree:  B.E CSE\n"
     ]
    }
   ],
   "source": [
    "inst_name1=input(\"Enter Your name? :\")\n",
    "age=int(input(\"Enter Your age:\"))\n",
    "schl_name1=input(\"Enter Your School name? :\")\n",
    "degree_name=input(\"Enter Your Degree: \")"
   ]
  },
  {
   "cell_type": "code",
   "execution_count": 7,
   "id": "9a8ec729-d221-403b-b95c-8a78a4170b0e",
   "metadata": {},
   "outputs": [
    {
     "name": "stdout",
     "output_type": "stream",
     "text": [
      "a=43\n",
      "b=34\n",
      "add = 77\n"
     ]
    }
   ],
   "source": [
    "a=43\n",
    "b=34\n",
    "add1=a+b\n",
    "print(\"a=43\")\n",
    "print(\"b=34\")\n",
    "print(\"add =\",add1)"
   ]
  },
  {
   "cell_type": "code",
   "execution_count": 8,
   "id": "61e87928-95b5-4c7e-af8d-7cd12f1b3e8d",
   "metadata": {},
   "outputs": [
    {
     "name": "stdout",
     "output_type": "stream",
     "text": [
      "a=43\n",
      "b=34\n",
      "sub = 9\n"
     ]
    }
   ],
   "source": [
    "a=43\n",
    "b=34\n",
    "sub1=a-b\n",
    "print(\"a=43\")\n",
    "print(\"b=34\")\n",
    "print(\"sub =\",sub1)"
   ]
  },
  {
   "cell_type": "code",
   "execution_count": 10,
   "id": "d1848140-e7a8-4136-962e-2784112aca25",
   "metadata": {},
   "outputs": [
    {
     "name": "stdout",
     "output_type": "stream",
     "text": [
      "a=63\n",
      "b=97\n",
      "mul = 6111\n"
     ]
    }
   ],
   "source": [
    "a=63\n",
    "b=97\n",
    "mul=a*b\n",
    "print(\"a=63\")\n",
    "print(\"b=97\")\n",
    "print(\"mul =\",mul)"
   ]
  },
  {
   "cell_type": "code",
   "execution_count": 11,
   "id": "703f4512-0b15-4079-9c75-d95fc422ef8a",
   "metadata": {},
   "outputs": [
    {
     "name": "stdout",
     "output_type": "stream",
     "text": [
      "a=76\n",
      "b=31\n",
      "float div = 2.4516129032258065\n"
     ]
    }
   ],
   "source": [
    "a=76\n",
    "b=31\n",
    "floatdiv=a/b\n",
    "print(\"a=76\")\n",
    "print(\"b=31\")\n",
    "print(\"float div =\",floatdiv)"
   ]
  },
  {
   "cell_type": "code",
   "execution_count": 12,
   "id": "f7470bcd-43ae-46f7-b58b-4ce9c74b9ec9",
   "metadata": {},
   "outputs": [
    {
     "name": "stdout",
     "output_type": "stream",
     "text": [
      "a=76\n",
      "b=31\n",
      "float div = 2\n"
     ]
    }
   ],
   "source": [
    "a=76\n",
    "b=31\n",
    "floatdiv=a//b\n",
    "print(\"a=76\")\n",
    "print(\"b=31\")\n",
    "print(\"float div =\",floatdiv)"
   ]
  },
  {
   "cell_type": "code",
   "execution_count": 1,
   "id": "b140593a-1ffe-43da-b4d9-1b48eab0607d",
   "metadata": {},
   "outputs": [
    {
     "name": "stdout",
     "output_type": "stream",
     "text": [
      "76\n",
      "31\n",
      "modulo = 14\n"
     ]
    }
   ],
   "source": [
    "a=76\n",
    "b=31\n",
    "modulo=a%b\n",
    "print(a)\n",
    "print(b)\n",
    "print(\"modulo =\",modulo)"
   ]
  },
  {
   "cell_type": "code",
   "execution_count": 3,
   "id": "38fd0b5f-0b5a-4243-9b5c-6812c35b5c1a",
   "metadata": {},
   "outputs": [
    {
     "name": "stdout",
     "output_type": "stream",
     "text": [
      "4\n",
      "4\n",
      "power=  256\n"
     ]
    }
   ],
   "source": [
    "a=4\n",
    "b=4\n",
    "power=pow(a,b)\n",
    "print(a)\n",
    "print(b)\n",
    "print(\"power= \",power)"
   ]
  },
  {
   "cell_type": "code",
   "execution_count": null,
   "id": "5fcee6d4-5222-414c-a306-a5e4caab8304",
   "metadata": {},
   "outputs": [],
   "source": []
  }
 ],
 "metadata": {
  "kernelspec": {
   "display_name": "Python 3 (ipykernel)",
   "language": "python",
   "name": "python3"
  },
  "language_info": {
   "codemirror_mode": {
    "name": "ipython",
    "version": 3
   },
   "file_extension": ".py",
   "mimetype": "text/x-python",
   "name": "python",
   "nbconvert_exporter": "python",
   "pygments_lexer": "ipython3",
   "version": "3.11.7"
  }
 },
 "nbformat": 4,
 "nbformat_minor": 5
}
