{
 "cells": [
  {
   "cell_type": "code",
   "execution_count": 1,
   "id": "54c0c5e4-d180-4353-a002-a8ce449f9417",
   "metadata": {},
   "outputs": [
    {
     "name": "stdout",
     "output_type": "stream",
     "text": [
      "0\n",
      "1\n",
      "2\n",
      "3\n",
      "4\n",
      "5\n",
      "6\n",
      "7\n",
      "8\n",
      "9\n",
      "10\n",
      "11\n",
      "12\n",
      "13\n",
      "14\n",
      "15\n",
      "16\n",
      "17\n",
      "18\n",
      "19\n"
     ]
    }
   ],
   "source": [
    "for i in range(0,20):\n",
    "    print(i)"
   ]
  },
  {
   "cell_type": "code",
   "execution_count": 2,
   "id": "31f98946-3679-4087-a1f5-8e9f3f1e126d",
   "metadata": {},
   "outputs": [
    {
     "name": "stdout",
     "output_type": "stream",
     "text": [
      "10 11 12 13 14 15 16 17 18 19 "
     ]
    }
   ],
   "source": [
    "for i in range(10,20):\n",
    "    print(i,end=' ')"
   ]
  },
  {
   "cell_type": "code",
   "execution_count": 4,
   "id": "d4d02acc-2ec5-45ae-955f-0e6027ea1f59",
   "metadata": {},
   "outputs": [],
   "source": [
    "lists2=[10,20,14,55,43,87,76]"
   ]
  },
  {
   "cell_type": "code",
   "execution_count": 7,
   "id": "218582b9-5b97-449f-a8bb-49fea7846a3e",
   "metadata": {},
   "outputs": [
    {
     "name": "stdout",
     "output_type": "stream",
     "text": [
      "[10, 20, 14, 55, 43, 87, 76] "
     ]
    },
    {
     "name": "stdin",
     "output_type": "stream",
     "text": [
      "Number of items in the List2 : \n"
     ]
    },
    {
     "name": "stdout",
     "output_type": "stream",
     "text": [
      "7\n"
     ]
    }
   ],
   "source": [
    "print(lists,end=' ')\n",
    "x=input(\"Number of items in the List2 :\")\n",
    "print(len(lists))"
   ]
  },
  {
   "cell_type": "code",
   "execution_count": 8,
   "id": "c49e8d93-2e39-4bf8-8ba5-cecdfd7e0093",
   "metadata": {},
   "outputs": [
    {
     "name": "stdout",
     "output_type": "stream",
     "text": [
      "Artificial Intelligence\n",
      "A\n",
      "r\n",
      "t\n",
      "i\n",
      "f\n",
      "i\n",
      "c\n",
      "i\n",
      "a\n",
      "l\n",
      " \n",
      "I\n",
      "n\n",
      "t\n",
      "e\n",
      "l\n",
      "l\n",
      "i\n",
      "g\n",
      "e\n",
      "n\n",
      "c\n",
      "e\n"
     ]
    }
   ],
   "source": [
    "print(\"Artificial Intelligence\")\n",
    "phrase=\"Artificial Intelligence\"\n",
    "for AI in phrase:\n",
    "    print(AI)"
   ]
  },
  {
   "cell_type": "code",
   "execution_count": 9,
   "id": "77854278-9293-4008-8cf3-451105f26416",
   "metadata": {},
   "outputs": [
    {
     "name": "stdout",
     "output_type": "stream",
     "text": [
      "-Your Name-\n",
      "-Your Age-\n",
      "-Your Profession-\n"
     ]
    }
   ],
   "source": [
    "NAME=(\"-Your Name-\")\n",
    "AGE=(\"-Your Age-\")\n",
    "PROFESSION=(\"-Your Profession-\")\n",
    "print(NAME)\n",
    "print(AGE)\n",
    "print(PROFESSION) \n"
   ]
  },
  {
   "cell_type": "code",
   "execution_count": 12,
   "id": "ffaeae43-59be-4cf4-9384-44a7596c1846",
   "metadata": {},
   "outputs": [
    {
     "name": "stdout",
     "output_type": "stream",
     "text": [
      "(1, 'Welcome', 2, 'Hope')\n"
     ]
    }
   ],
   "source": [
    "tuples=(1,'Welcome',2,'Hope')\n",
    "print(tuples)"
   ]
  },
  {
   "cell_type": "code",
   "execution_count": 14,
   "id": "a60fcffe-c48c-41d5-9b73-68688833025d",
   "metadata": {},
   "outputs": [
    {
     "name": "stdout",
     "output_type": "stream",
     "text": [
      "((0, 1, 2, 3), ('python', 'Hope'))\n"
     ]
    }
   ],
   "source": [
    "tuple1=((0,1,2,3))\n",
    "tuble2=(('python','Hope'))\n",
    "print((tuple1,tuble2))"
   ]
  },
  {
   "cell_type": "code",
   "execution_count": 16,
   "id": "abb1c8ea-f9f8-4a9b-974c-5ad8fca8b582",
   "metadata": {},
   "outputs": [
    {
     "name": "stdout",
     "output_type": "stream",
     "text": [
      "(20, 10, 16, 19, 25, 1, 276, 188)\n",
      "19 is odd\n",
      "25 is odd\n",
      "1 is odd\n"
     ]
    }
   ],
   "source": [
    "list=(20,10,16,19,25,1,276,188)\n",
    "print(list)\n",
    "for num in list:\n",
    "    if num%2 == 1:\n",
    "        print(num,\"is odd\")"
   ]
  },
  {
   "cell_type": "code",
   "execution_count": 18,
   "id": "5e6a36b3-3cce-437e-9a84-e63cc83cb269",
   "metadata": {},
   "outputs": [
    {
     "name": "stdout",
     "output_type": "stream",
     "text": [
      "(20, 10, 16, 19, 25, 1, 276, 188)\n",
      "20 is even\n",
      "10 is even\n",
      "16 is even\n",
      "276 is even\n",
      "188 is even\n"
     ]
    }
   ],
   "source": [
    "list=(20,10,16,19,25,1,276,188)\n",
    "print(list)\n",
    "for num in list:\n",
    "    if num%2 == 0:\n",
    "        print(num,\"is even\")"
   ]
  },
  {
   "cell_type": "code",
   "execution_count": null,
   "id": "ee768c2f-35ea-48fa-a22a-bedfef237141",
   "metadata": {},
   "outputs": [],
   "source": []
  }
 ],
 "metadata": {
  "kernelspec": {
   "display_name": "Python 3 (ipykernel)",
   "language": "python",
   "name": "python3"
  },
  "language_info": {
   "codemirror_mode": {
    "name": "ipython",
    "version": 3
   },
   "file_extension": ".py",
   "mimetype": "text/x-python",
   "name": "python",
   "nbconvert_exporter": "python",
   "pygments_lexer": "ipython3",
   "version": "3.11.7"
  }
 },
 "nbformat": 4,
 "nbformat_minor": 5
}
